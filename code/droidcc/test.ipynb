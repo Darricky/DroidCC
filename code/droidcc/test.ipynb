{
 "cells": [
  {
   "cell_type": "code",
   "execution_count": 68,
   "metadata": {},
   "outputs": [],
   "source": [
    "import pandas as pd\n",
    "from sklearn.feature_selection import SelectFromModel\n",
    "from sklearn.ensemble import GradientBoostingClassifier"
   ]
  },
  {
   "cell_type": "code",
   "execution_count": 69,
   "metadata": {},
   "outputs": [],
   "source": [
    "PATH = \"data\\\\sample-3000.csv\"\n",
    "df = pd.read_csv(PATH)"
   ]
  },
  {
   "cell_type": "code",
   "execution_count": 71,
   "metadata": {},
   "outputs": [],
   "source": [
    "X = df.drop(\"label\", 1)\n",
    "Y = df[\"label\"]\n"
   ]
  },
  {
   "cell_type": "code",
   "execution_count": 72,
   "metadata": {},
   "outputs": [
    {
     "name": "stdout",
     "output_type": "stream",
     "text": [
      "Features sorted by their score:\n",
      "[(0.5943, 'getRunningAppProcesses'), (0.0675, 'action.VIEW'), (0.0332, 'permission.SYSTEM_ALERT_WINDOW'), (0.0288, 'permission.WRITE_SMS'), (0.0228, 'getLine1Number'), (0.0206, 'getPhoneType'), (0.0168, 'getDeviceId'), (0.015, 'permission.READ_PHONE_STATE'), (0.0126, 'permission.CAMERA'), (0.0117, 'permission.WAKE_LOCK'), (0.011, 'sendTextMessage'), (0.0103, 'permission.ACCESS_NETWORK_STATE'), (0.0085, 'action.PACKAGE_REMOVED'), (0.0079, 'com/google/android/gms/ads/mediation/admob/AdMobExtras'), (0.0073, 'permission.SEND_SMS'), (0.0069, 'getSubscriberId'), (0.005, 'getNetworkOperator'), (0.0045, 'permission.GET_TASKS'), (0.0045, 'abortBroadcast'), (0.0044, 'permission.MOUNT_UNMOUNT_FILESYSTEMS'), (0.0039, 'startPreview'), (0.0039, 'permission.WRITE_APN_SETTINGS'), (0.0036, 'permission.WRITE_SETTINGS'), (0.0035, 'permission.WRITE_HISTORY_BOOKMARKS'), (0.0034, 'permission.WRITE_EXTERNAL_STORAGE'), (0.0032, 'onSensorChanged'), (0.0031, 'getDisplayMessageBody'), (0.003, 'com/google/ads/mediation/admob/AdMobAdapter'), (0.0029, 'permission.VIBRATE'), (0.0028, 'permission.BLUETOOTH'), (0.0028, 'getLastKnownLocation'), (0.0025, 'action.BOOT_COMPLETED'), (0.0024, 'sms_body'), (0.0023, 'permission.READ_HISTORY_BOOKMARKS'), (0.0022, 'permission.READ_SYNC_SETTINGS'), (0.0021, 'permission.ACCESS_WIFI_STATE'), (0.002, 'permission.BROADCAST_STICKY'), (0.0019, 'permission.MODIFY_PHONE_STATE'), (0.0018, 'getRunningTasks'), (0.0018, 'getCellLocation'), (0.0018, 'action.SEND'), (0.0015, 'createFromPdu'), (0.0014, 'permission.RECEIVE_BOOT_COMPLETED'), (0.0014, 'permission.READ_CONTACTS'), (0.0014, 'permission.ACCESS_FINE_LOCATION'), (0.0012, 'permission.DELETE_CACHE_FILES'), (0.0012, 'permission.CHANGE_WIFI_STATE'), (0.0012, 'permission.CHANGE_WIFI_MULTICAST_STATE'), (0.0012, 'action.CREATE_SHORTCUT'), (0.0011, 'setWifiEnabled'), (0.0011, 'permission.READ_SMS'), (0.0011, 'permission.MODIFY_AUDIO_SETTINGS'), (0.0011, 'permission.HARDWARE_TEST'), (0.0011, 'permission.BLUETOOTH_ADMIN'), (0.001, 'permission.READ_LOGS'), (0.001, 'permission.ACCESS_COARSE_LOCATION'), (0.001, 'action.PACKAGE_INSTALL'), (0.0009, 'takePicture'), (0.0009, 'permission.RESTART_PACKAGES'), (0.0009, 'permission.MANAGE_ACCOUNTS'), (0.0009, 'getNetworkOperatorName'), (0.0009, 'getNeighboringCellInfo'), (0.0008, 'setPreviewDisplay'), (0.0008, 'permission.FLASHLIGHT'), (0.0008, 'permission.CHANGE_NETWORK_STATE'), (0.0008, 'action.USER_PRESENT'), (0.0008, 'action.MAIN'), (0.0008, 'MediaRecorder'), (0.0007, 'requestLocationUpdates'), (0.0007, 'permission.REORDER_TASKS'), (0.0007, 'permission.RECORD_AUDIO'), (0.0007, 'permission.RECEIVE_SMS'), (0.0007, 'permission.GET_ACCOUNTS'), (0.0006, 'startDiscovery'), (0.0006, 'permission.SET_ORIENTATION'), (0.0006, 'permission.INTERNET'), (0.0006, 'permission.FACTORY_TEST'), (0.0006, 'permission.DISABLE_KEYGUARD'), (0.0006, 'permission.CHANGE_CONFIGURATION'), (0.0006, 'getSimSerialNumber'), (0.0006, 'getAccountsByType'), (0.0006, 'action.SEARCH'), (0.0006, 'action.PACKAGE_REPLACED'), (0.0006, 'action.GET_CONTENT'), (0.0005, 'permission.USE_CREDENTIALS'), (0.0005, 'permission.CONTROL_LOCATION_UPDATES'), (0.0005, 'permission.ACCESS_SURFACE_FLINGER'), (0.0005, 'getInstalledApplications'), (0.0005, 'getAccounts'), (0.0005, 'action.SENDTO'), (0.0005, 'action.ATTACH_DATA'), (0.0004, 'permission.NFC'), (0.0004, 'permission.INSTALL_PACKAGES'), (0.0004, 'getBondedDevices'), (0.0004, 'action.SET_WALLPAPER'), (0.0004, 'action.PACKAGE_ADDED'), (0.0004, 'action.CALL'), (0.0003, 'permission.WRITE_CONTACTS'), (0.0003, 'permission.SET_WALLPAPER'), (0.0003, 'permission.SET_ALARM'), (0.0003, 'permission.PROCESS_OUTGOING_CALLS'), (0.0003, 'permission.CLEAR_APP_CACHE'), (0.0003, 'action.BATTERY_OKAY'), (0.0003, 'action.ACTION_POWER_CONNECTED'), (0.0002, 'permission.READ_CALENDAR'), (0.0002, 'permission.DELETE_PACKAGES'), (0.0002, 'permission.CALL_PHONE'), (0.0002, 'permission.BROADCAST_PACKAGE_REMOVED'), (0.0002, 'action.LOCALE_CHANGED'), (0.0001, 'ro.serialno'), (0.0001, 'permission.WRITE_SECURE_SETTINGS'), (0.0001, 'permission.WRITE_CALENDAR'), (0.0001, 'permission.STATUS_BAR'), (0.0001, 'permission.SET_PREFERRED_APPLICATIONS'), (0.0001, 'permission.READ_SYNC_STATS'), (0.0001, 'permission.PERSISTENT_ACTIVITY'), (0.0001, 'permission.KILL_BACKGROUND_PROCESSES'), (0.0001, 'permission.GET_PACKAGE_SIZE'), (0.0001, 'permission.ACCESS_LOCATION_EXTRA_COMMANDS'), (0.0001, 'com.android.mms'), (0.0001, 'action.TIME_SET'), (0.0001, 'action.SEND_MULTIPLE'), (0.0001, 'action.MEDIA_SHARED'), (0.0001, 'action.MEDIA_NOFS'), (0.0001, 'action.CAMERA_BUTTON'), (0.0001, 'action.BATTERY_CHANGED'), (0.0001, 'action.ANSWER'), (0.0, 'sendMultipartTextMessage'), (0.0, 'permission.WRITE_SYNC_SETTINGS'), (0.0, 'permission.WRITE_GSERVICES'), (0.0, 'permission.USE_SIP'), (0.0, 'permission.UPDATE_DEVICE_STATS'), (0.0, 'permission.SUBSCRIBED_FEEDS_WRITE'), (0.0, 'permission.SUBSCRIBED_FEEDS_READ'), (0.0, 'permission.SIGNAL_PERSISTENT_PROCESSES'), (0.0, 'permission.SET_WALLPAPER_HINTS'), (0.0, 'permission.SET_TIME_ZONE'), (0.0, 'permission.SET_TIME'), (0.0, 'permission.SET_PROCESS_LIMIT'), (0.0, 'permission.SET_DEBUG_APP'), (0.0, 'permission.SET_ANIMATION_SCALE'), (0.0, 'permission.SET_ALWAYS_FINISH'), (0.0, 'permission.SET_ACTIVITY_WATCHER'), (0.0, 'permission.RECEIVE_WAP_PUSH'), (0.0, 'permission.RECEIVE_MMS'), (0.0, 'permission.REBOOT'), (0.0, 'permission.READ_INPUT_STATE'), (0.0, 'permission.READ_FRAME_BUFFER'), (0.0, 'permission.MTWEAK_USER'), (0.0, 'permission.MTWEAK_FORUM'), (0.0, 'permission.MOUNT_FORMAT_FILESYSTEMS'), (0.0, 'permission.MASTER_CLEAR'), (0.0, 'permission.MANAGE_APP_TOKENS'), (0.0, 'permission.INTERNAL_SYSTEM_WINDOW'), (0.0, 'permission.INSTALL_LOCATION_PROVIDER'), (0.0, 'permission.INJECT_EVENTS'), (0.0, 'permission.GLOBAL_SEARCH'), (0.0, 'permission.FORCE_BACK'), (0.0, 'permission.EXPAND_STATUS_BAR'), (0.0, 'permission.DUMP'), (0.0, 'permission.DIAGNOSTIC'), (0.0, 'permission.DEVICE_POWER'), (0.0, 'permission.CWJ_GROUP'), (0.0, 'permission.CLEAR_APP_USER_DATA'), (0.0, 'permission.CHANGE_COMPONENT_ENABLED_STATE'), (0.0, 'permission.CELL_PHONE_MASTER_EX'), (0.0, 'permission.CALL_PRIVILEGED'), (0.0, 'permission.BROADCAST_WAP_PUSH'), (0.0, 'permission.BROADCAST_SMS'), (0.0, 'permission.BRICK'), (0.0, 'permission.BIND_WALLPAPER'), (0.0, 'permission.BIND_REMOTEVIEWS'), (0.0, 'permission.BIND_INPUT_METHOD'), (0.0, 'permission.BIND_DEVICE_ADMIN'), (0.0, 'permission.BIND_APPWIDGET'), (0.0, 'permission.BATTERY_STATS'), (0.0, 'permission.AUTHENTICATE_ACCOUNTS'), (0.0, 'permission.ACCOUNT_MANAGER'), (0.0, 'permission.ACCESS_MOCK_LOCATION'), (0.0, 'permission.ACCESS_CHECKIN_PROPERTIES'), (0.0, 'execHttpRequest'), (0.0, 'com/amazon/device/ads/AdController'), (0.0, 'com/amazon/device/ads/AdCloser'), (0.0, 'android.intent.action.CALL_BUTTON'), (0.0, 'android.intent.action.CALL'), (0.0, 'action.WEB_SEARCH'), (0.0, 'action.WALLPAPER_CHANGED'), (0.0, 'action.VOICE_COMMAND'), (0.0, 'action.UPGRADE_SETUP'), (0.0, 'action.UMS_DISCONNECTED'), (0.0, 'action.UMS_CONNECTED'), (0.0, 'action.UID_REMOVED'), (0.0, 'action.TIME_TICK'), (0.0, 'action.TIMEZONE_CHANGED'), (0.0, 'action.SYSTEM_TUTORIAL'), (0.0, 'action.SYNC'), (0.0, 'action.SEARCH_LONG_PRESS'), (0.0, 'action.SCREEN_ON'), (0.0, 'action.SCREEN_OFF'), (0.0, 'action.RUN'), (0.0, 'action.QUERY_PACKAGE_RESTART'), (0.0, 'action.POWER_USAGE_SUMMARY'), (0.0, 'action.PICK_ACTIVITY'), (0.0, 'action.PICK'), (0.0, 'action.PACKAGE_RESTARTED'), (0.0, 'action.PACKAGE_DATA_CLEARED'), (0.0, 'action.PACKAGE_CHANGED'), (0.0, 'action.MEDIA_UNSHARED'), (0.0, 'action.MEDIA_UNMOUNTED'), (0.0, 'action.MEDIA_UNMOUNTABLE'), (0.0, 'action.MEDIA_SCANNER_STARTED'), (0.0, 'action.MEDIA_SCANNER_SCAN_FILE'), (0.0, 'action.MEDIA_SCANNER_FINISHED'), (0.0, 'action.MEDIA_REMOVED'), (0.0, 'action.MEDIA_MOUNTED'), (0.0, 'action.MEDIA_EJECT'), (0.0, 'action.MEDIA_CHECKING'), (0.0, 'action.MEDIA_BUTTON'), (0.0, 'action.MEDIA_BAD_REMOVAL'), (0.0, 'action.MANAGE_PACKAGE_STORAGE'), (0.0, 'action.IP_CALL_PRIVILEGED'), (0.0, 'action.INSERT_OR_EDIT'), (0.0, 'action.INSERT'), (0.0, 'action.FACTORY_TEST'), (0.0, 'action.EDIT'), (0.0, 'action.DIAL'), (0.0, 'action.DEVICE_STORAGE_OK'), (0.0, 'action.DEVICE_STORAGE_LOW'), (0.0, 'action.DELETE'), (0.0, 'action.DATE_CHANGED'), (0.0, 'action.CONFIGURATION_CHANGED'), (0.0, 'action.CLOSE_SYSTEM_DIALOGS'), (0.0, 'action.CHOOSER'), (0.0, 'action.CALL_PRIVILEGED'), (0.0, 'action.CALL_EMERGENCY'), (0.0, 'action.CALL_BUTTON'), (0.0, 'action.BUG_REPORT'), (0.0, 'action.BATTERY_LOW'), (0.0, 'action.APP_ERROR'), (0.0, 'action.ALL_APPS'), (0.0, 'action.ALARM_CHANGED'), (0.0, 'action.AIRPLANE_MODE'), (0.0, 'action.ACTION_SHUTDOWN'), (0.0, 'action.ACTION_REQUEST_SHUTDOWN'), (0.0, 'SendDataMessage'), (0.0, 'Runtime.exec')]\n"
     ]
    }
   ],
   "source": [
    "from sklearn.datasets import load_boston  \n",
    "from sklearn.ensemble import RandomForestRegressor  \n",
    "import numpy as np  \n",
    "#Load boston housing dataset as an example  \n",
    "# boston = load_boston()  \n",
    "# X = boston[\"data\"]  \n",
    "# Y = boston[\"target\"]  \n",
    "# names = boston[\"feature_names\"]  \n",
    "rf = RandomForestRegressor()  \n",
    "rf.fit(X, Y)  \n",
    "print (\"Features sorted by their score:\")  \n",
    "print (sorted(zip(map(lambda x: round(x, 4), rf.feature_importances_), X.columns.values),   \n",
    "             reverse=True))  "
   ]
  },
  {
   "cell_type": "code",
   "execution_count": 93,
   "metadata": {},
   "outputs": [
    {
     "name": "stdout",
     "output_type": "stream",
     "text": [
      "Features sorted by their score:\n",
      "[(0.4669, 'getRunningAppProcesses'), (0.1335, 'com/google/android/gms/ads/mediation/admob/AdMobExtras'), (0.0986, 'action.VIEW'), (0.0772, 'getDeviceId'), (0.0617, 'permission.READ_PHONE_STATE'), (0.06, 'getNetworkOperator'), (0.0501, 'getPhoneType'), (0.0446, 'permission.SEND_SMS'), (0.04, 'getLine1Number'), (0.0395, 'permission.WRITE_SMS'), (0.0387, 'permission.SYSTEM_ALERT_WINDOW'), (0.0304, 'permission.ACCESS_NETWORK_STATE'), (0.0292, 'action.PACKAGE_REMOVED'), (0.0244, 'sendTextMessage'), (0.023, 'permission.MANAGE_ACCOUNTS'), (0.0226, 'permission.CAMERA'), (0.0222, 'getLastKnownLocation'), (0.022, 'action.SEND'), (0.0212, 'permission.WRITE_HISTORY_BOOKMARKS'), (0.0193, 'permission.MOUNT_UNMOUNT_FILESYSTEMS'), (0.0133, 'action.BOOT_COMPLETED'), (0.01, 'permission.WAKE_LOCK'), (0.0096, 'getSubscriberId'), (0.0087, 'com/google/ads/mediation/admob/AdMobAdapter'), (0.0083, 'permission.BROADCAST_STICKY'), (0.0077, 'permission.BLUETOOTH'), (0.0076, 'startPreview'), (0.0066, 'action.USER_PRESENT'), (0.0056, 'permission.WRITE_SETTINGS'), (0.0053, 'permission.GET_TASKS'), (0.005, 'getRunningTasks'), (0.0048, 'getNeighboringCellInfo'), (0.0046, 'sms_body'), (0.0042, 'permission.WRITE_EXTERNAL_STORAGE'), (0.0041, 'takePicture'), (0.0041, 'abortBroadcast'), (0.004, 'permission.WRITE_APN_SETTINGS'), (0.0038, 'action.PACKAGE_ADDED'), (0.0037, 'permission.READ_LOGS'), (0.0037, 'getSimSerialNumber'), (0.0035, 'permission.REORDER_TASKS'), (0.0034, 'permission.ACCESS_WIFI_STATE'), (0.0032, 'setPreviewDisplay'), (0.0028, 'onSensorChanged'), (0.0027, 'permission.DELETE_CACHE_FILES'), (0.0025, 'permission.GET_PACKAGE_SIZE'), (0.0025, 'getNetworkOperatorName'), (0.0024, 'permission.READ_SYNC_SETTINGS'), (0.0021, 'permission.VIBRATE'), (0.002, 'permission.INSTALL_PACKAGES'), (0.002, 'getCellLocation'), (0.0018, 'permission.CLEAR_APP_CACHE'), (0.0018, 'permission.ACCESS_COARSE_LOCATION'), (0.0017, 'permission.CHANGE_WIFI_STATE'), (0.0014, 'setWifiEnabled'), (0.0014, 'permission.RECORD_AUDIO'), (0.0013, 'permission.RECEIVE_SMS'), (0.0012, 'permission.CHANGE_WIFI_MULTICAST_STATE'), (0.0011, 'permission.RESTART_PACKAGES'), (0.001, 'permission.READ_HISTORY_BOOKMARKS'), (0.001, 'permission.READ_CALENDAR'), (0.001, 'action.PACKAGE_INSTALL'), (0.0009, 'permission.MODIFY_AUDIO_SETTINGS'), (0.0008, 'requestLocationUpdates'), (0.0008, 'permission.READ_CONTACTS'), (0.0008, 'permission.GET_ACCOUNTS'), (0.0007, 'permission.RECEIVE_BOOT_COMPLETED'), (0.0007, 'permission.READ_SMS'), (0.0007, 'permission.BLUETOOTH_ADMIN'), (0.0007, 'getAccountsByType'), (0.0007, 'action.PACKAGE_REPLACED'), (0.0006, 'permission.WRITE_CALENDAR'), (0.0006, 'permission.USE_CREDENTIALS'), (0.0006, 'permission.MODIFY_PHONE_STATE'), (0.0006, 'getInstalledApplications'), (0.0005, 'permission.CONTROL_LOCATION_UPDATES'), (0.0005, 'permission.ACCESS_FINE_LOCATION'), (0.0005, 'createFromPdu'), (0.0005, 'com.android.mms'), (0.0004, 'permission.NFC'), (0.0004, 'permission.FLASHLIGHT'), (0.0004, 'permission.FACTORY_TEST'), (0.0004, 'permission.AUTHENTICATE_ACCOUNTS'), (0.0004, 'getAccounts'), (0.0004, 'action.CREATE_SHORTCUT'), (0.0004, 'action.CALL'), (0.0003, 'sendMultipartTextMessage'), (0.0003, 'ro.serialno'), (0.0003, 'permission.KILL_BACKGROUND_PROCESSES'), (0.0003, 'permission.CHANGE_NETWORK_STATE'), (0.0003, 'permission.CHANGE_CONFIGURATION'), (0.0003, 'getDisplayMessageBody'), (0.0003, 'action.TIME_SET'), (0.0003, 'action.LOCALE_CHANGED'), (0.0002, 'permission.DISABLE_KEYGUARD'), (0.0002, 'permission.CALL_PHONE'), (0.0002, 'action.SEARCH'), (0.0002, 'action.MEDIA_UNMOUNTED'), (0.0002, 'action.MAIN'), (0.0002, 'MediaRecorder'), (0.0001, 'permission.WRITE_SECURE_SETTINGS'), (0.0001, 'permission.WRITE_CONTACTS'), (0.0001, 'permission.SET_WALLPAPER'), (0.0001, 'permission.SET_ALARM'), (0.0001, 'permission.RECEIVE_MMS'), (0.0001, 'permission.READ_SYNC_STATS'), (0.0001, 'permission.PROCESS_OUTGOING_CALLS'), (0.0001, 'permission.HARDWARE_TEST'), (0.0001, 'permission.DELETE_PACKAGES'), (0.0001, 'permission.BROADCAST_PACKAGE_REMOVED'), (0.0001, 'permission.BATTERY_STATS'), (0.0001, 'permission.ACCESS_LOCATION_EXTRA_COMMANDS'), (0.0001, 'getBondedDevices'), (0.0001, 'action.TIMEZONE_CHANGED'), (0.0001, 'action.SEND_MULTIPLE'), (0.0001, 'action.SENDTO'), (0.0001, 'action.MEDIA_REMOVED'), (0.0001, 'action.MEDIA_MOUNTED'), (0.0001, 'action.GET_CONTENT'), (0.0001, 'action.ACTION_POWER_CONNECTED'), (0.0, 'startDiscovery'), (0.0, 'permission.WRITE_SYNC_SETTINGS'), (0.0, 'permission.WRITE_GSERVICES'), (0.0, 'permission.USE_SIP'), (0.0, 'permission.UPDATE_DEVICE_STATS'), (0.0, 'permission.SUBSCRIBED_FEEDS_WRITE'), (0.0, 'permission.SUBSCRIBED_FEEDS_READ'), (0.0, 'permission.STATUS_BAR'), (0.0, 'permission.SIGNAL_PERSISTENT_PROCESSES'), (-0.0, 'permission.SET_WALLPAPER_HINTS'), (0.0, 'permission.SET_TIME_ZONE'), (0.0, 'permission.SET_TIME'), (0.0, 'permission.SET_PROCESS_LIMIT'), (0.0, 'permission.SET_PREFERRED_APPLICATIONS'), (0.0, 'permission.SET_ORIENTATION'), (-0.0, 'permission.SET_DEBUG_APP'), (0.0, 'permission.SET_ANIMATION_SCALE'), (0.0, 'permission.SET_ALWAYS_FINISH'), (0.0, 'permission.SET_ACTIVITY_WATCHER'), (-0.0, 'permission.RECEIVE_WAP_PUSH'), (0.0, 'permission.REBOOT'), (0.0, 'permission.READ_INPUT_STATE'), (0.0, 'permission.READ_FRAME_BUFFER'), (-0.0, 'permission.PERSISTENT_ACTIVITY'), (0.0, 'permission.MTWEAK_USER'), (0.0, 'permission.MTWEAK_FORUM'), (0.0, 'permission.MOUNT_FORMAT_FILESYSTEMS'), (0.0, 'permission.MASTER_CLEAR'), (0.0, 'permission.MANAGE_APP_TOKENS'), (0.0, 'permission.INTERNAL_SYSTEM_WINDOW'), (0.0, 'permission.INSTALL_LOCATION_PROVIDER'), (0.0, 'permission.INJECT_EVENTS'), (0.0, 'permission.GLOBAL_SEARCH'), (0.0, 'permission.FORCE_BACK'), (0.0, 'permission.EXPAND_STATUS_BAR'), (0.0, 'permission.DUMP'), (0.0, 'permission.DIAGNOSTIC'), (-0.0, 'permission.DEVICE_POWER'), (0.0, 'permission.CWJ_GROUP'), (0.0, 'permission.CLEAR_APP_USER_DATA'), (0.0, 'permission.CHANGE_COMPONENT_ENABLED_STATE'), (0.0, 'permission.CELL_PHONE_MASTER_EX'), (0.0, 'permission.CALL_PRIVILEGED'), (0.0, 'permission.BROADCAST_WAP_PUSH'), (0.0, 'permission.BROADCAST_SMS'), (0.0, 'permission.BRICK'), (0.0, 'permission.BIND_WALLPAPER'), (0.0, 'permission.BIND_REMOTEVIEWS'), (0.0, 'permission.BIND_INPUT_METHOD'), (0.0, 'permission.BIND_DEVICE_ADMIN'), (-0.0, 'permission.BIND_APPWIDGET'), (0.0, 'permission.ACCOUNT_MANAGER'), (-0.0, 'permission.ACCESS_SURFACE_FLINGER'), (0.0, 'permission.ACCESS_MOCK_LOCATION'), (0.0, 'permission.ACCESS_CHECKIN_PROPERTIES'), (0.0, 'execHttpRequest'), (0.0, 'com/amazon/device/ads/AdController'), (0.0, 'com/amazon/device/ads/AdCloser'), (0.0, 'android.intent.action.CALL_BUTTON'), (0.0, 'android.intent.action.CALL'), (0.0, 'action.WEB_SEARCH'), (0.0, 'action.WALLPAPER_CHANGED'), (0.0, 'action.VOICE_COMMAND'), (0.0, 'action.UPGRADE_SETUP'), (0.0, 'action.UMS_DISCONNECTED'), (0.0, 'action.UMS_CONNECTED'), (0.0, 'action.UID_REMOVED'), (0.0, 'action.TIME_TICK'), (0.0, 'action.SYSTEM_TUTORIAL'), (0.0, 'action.SYNC'), (0.0, 'action.SEARCH_LONG_PRESS'), (0.0, 'action.SCREEN_ON'), (0.0, 'action.SCREEN_OFF'), (0.0, 'action.RUN'), (0.0, 'action.QUERY_PACKAGE_RESTART'), (0.0, 'action.POWER_USAGE_SUMMARY'), (0.0, 'action.PICK_ACTIVITY'), (0.0, 'action.PACKAGE_RESTARTED'), (0.0, 'action.PACKAGE_DATA_CLEARED'), (0.0, 'action.PACKAGE_CHANGED'), (0.0, 'action.MEDIA_UNSHARED'), (0.0, 'action.MEDIA_UNMOUNTABLE'), (0.0, 'action.MEDIA_SHARED'), (0.0, 'action.MEDIA_SCANNER_STARTED'), (0.0, 'action.MEDIA_SCANNER_SCAN_FILE'), (0.0, 'action.MEDIA_SCANNER_FINISHED'), (0.0, 'action.MEDIA_NOFS'), (0.0, 'action.MEDIA_EJECT'), (0.0, 'action.MEDIA_CHECKING'), (0.0, 'action.MEDIA_BUTTON'), (0.0, 'action.MEDIA_BAD_REMOVAL'), (0.0, 'action.MANAGE_PACKAGE_STORAGE'), (0.0, 'action.IP_CALL_PRIVILEGED'), (0.0, 'action.INSERT_OR_EDIT'), (0.0, 'action.INSERT'), (0.0, 'action.FACTORY_TEST'), (0.0, 'action.EDIT'), (0.0, 'action.DIAL'), (0.0, 'action.DEVICE_STORAGE_OK'), (0.0, 'action.DEVICE_STORAGE_LOW'), (0.0, 'action.DELETE'), (0.0, 'action.DATE_CHANGED'), (0.0, 'action.CONFIGURATION_CHANGED'), (0.0, 'action.CLOSE_SYSTEM_DIALOGS'), (0.0, 'action.CHOOSER'), (0.0, 'action.CAMERA_BUTTON'), (0.0, 'action.CALL_PRIVILEGED'), (0.0, 'action.CALL_EMERGENCY'), (0.0, 'action.CALL_BUTTON'), (0.0, 'action.BUG_REPORT'), (0.0, 'action.BATTERY_OKAY'), (0.0, 'action.BATTERY_LOW'), (0.0, 'action.BATTERY_CHANGED'), (0.0, 'action.APP_ERROR'), (-0.0, 'action.ANSWER'), (0.0, 'action.ALL_APPS'), (0.0, 'action.ALARM_CHANGED'), (-0.0, 'action.AIRPLANE_MODE'), (-0.0, 'action.ACTION_SHUTDOWN'), (0.0, 'action.ACTION_REQUEST_SHUTDOWN'), (0.0, 'SendDataMessage'), (0.0, 'Runtime.exec'), (-0.0001, 'action.SET_WALLPAPER'), (-0.0001, 'action.PICK'), (-0.0001, 'action.ATTACH_DATA'), (-0.0008, 'permission.INTERNET')]\n"
     ]
    }
   ],
   "source": [
    "from sklearn.cross_validation import ShuffleSplit  \n",
    "from sklearn.metrics import r2_score  \n",
    "from collections import defaultdict  \n",
    "  \n",
    "# X = boston[\"data\"]  \n",
    "# Y = boston[\"target\"] \n",
    "\n",
    "X = df.drop(\"label\", 1).values\n",
    "Y = df[\"label\"].values\n",
    "name = df.drop(\"label\", 1).columns.values\n",
    "  \n",
    "rf = RandomForestRegressor()  \n",
    "scores = defaultdict(list)  \n",
    "  \n",
    "#crossvalidate the scores on a number of different random splits of the data  \n",
    "for train_idx, test_idx in ShuffleSplit(len(X), 100, .3):  \n",
    "    X_train, X_test = X[train_idx], X[test_idx]  \n",
    "    Y_train, Y_test = Y[train_idx], Y[test_idx]  \n",
    "    r = rf.fit(X_train, Y_train)  \n",
    "    acc = r2_score(Y_test, rf.predict(X_test))  \n",
    "    for i in range(X.shape[1]):  \n",
    "        X_t = X_test.copy()  \n",
    "        np.random.shuffle(X_t[:, i])  \n",
    "        shuff_acc = r2_score(Y_test, rf.predict(X_t))  \n",
    "        scores[df.drop(\"label\", 1).columns.values[i]].append((acc-shuff_acc)/acc)  \n",
    "print (\"Features sorted by their score:\")  \n",
    "print (sorted([(round(np.mean(score), 4), feat) for  \n",
    "              feat, score in scores.items()], reverse=True))  "
   ]
  },
  {
   "cell_type": "code",
   "execution_count": null,
   "metadata": {},
   "outputs": [],
   "source": [
    "\n"
   ]
  },
  {
   "cell_type": "code",
   "execution_count": null,
   "metadata": {},
   "outputs": [],
   "source": []
  },
  {
   "cell_type": "code",
   "execution_count": null,
   "metadata": {},
   "outputs": [],
   "source": []
  }
 ],
 "metadata": {
  "kernelspec": {
   "display_name": "Python 3",
   "language": "python",
   "name": "python3"
  },
  "language_info": {
   "codemirror_mode": {
    "name": "ipython",
    "version": 3
   },
   "file_extension": ".py",
   "mimetype": "text/x-python",
   "name": "python",
   "nbconvert_exporter": "python",
   "pygments_lexer": "ipython3",
   "version": "3.5.5"
  }
 },
 "nbformat": 4,
 "nbformat_minor": 1
}
